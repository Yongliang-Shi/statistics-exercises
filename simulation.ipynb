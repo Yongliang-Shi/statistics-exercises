{
 "cells": [
  {
   "cell_type": "code",
   "execution_count": 1,
   "metadata": {},
   "outputs": [],
   "source": [
    "import numpy as np\n",
    "import pandas as pd\n",
    "import viz"
   ]
  },
  {
   "cell_type": "markdown",
   "metadata": {},
   "source": [
    "## 1. How likely is it that you roll doubles when rolling two dice?"
   ]
  },
  {
   "cell_type": "code",
   "execution_count": 38,
   "metadata": {},
   "outputs": [
    {
     "data": {
      "text/plain": [
       "array([[3, 1],\n",
       "       [2, 3],\n",
       "       [1, 5],\n",
       "       ...,\n",
       "       [4, 4],\n",
       "       [6, 3],\n",
       "       [5, 5]])"
      ]
     },
     "execution_count": 38,
     "metadata": {},
     "output_type": "execute_result"
    }
   ],
   "source": [
    "# Assume the dices are six sides and fair. \n",
    "\n",
    "n_trials = nrows = 1_000_000\n",
    "n_dice = ncols = 2\n",
    "\n",
    "rolls = np.random.choice([1,2,3,4,5,6], n_trials * n_dice).reshape(nrows, ncols)\n",
    "rolls"
   ]
  },
  {
   "cell_type": "code",
   "execution_count": 39,
   "metadata": {
    "scrolled": false
   },
   "outputs": [
    {
     "data": {
      "text/plain": [
       "0.166589"
      ]
     },
     "execution_count": 39,
     "metadata": {},
     "output_type": "execute_result"
    }
   ],
   "source": [
    "boolean_roll_doubles = [rolls[i][0] == rolls[i][1] for i in range(0, nrows)]\n",
    "pd.Series(boolean_roll_doubles).mean()"
   ]
  },
  {
   "cell_type": "markdown",
   "metadata": {},
   "source": [
    "## 2-a. If you flip 8 coins, what is the probability of getting exactly 3 heads? "
   ]
  },
  {
   "cell_type": "code",
   "execution_count": 50,
   "metadata": {},
   "outputs": [
    {
     "data": {
      "text/plain": [
       "array([['Head', 'Tails', 'Head', ..., 'Tails', 'Tails', 'Tails'],\n",
       "       ['Head', 'Head', 'Tails', ..., 'Head', 'Head', 'Tails'],\n",
       "       ['Head', 'Head', 'Tails', ..., 'Tails', 'Tails', 'Head'],\n",
       "       ...,\n",
       "       ['Head', 'Head', 'Tails', ..., 'Head', 'Head', 'Head'],\n",
       "       ['Head', 'Head', 'Tails', ..., 'Head', 'Head', 'Tails'],\n",
       "       ['Head', 'Head', 'Head', ..., 'Head', 'Tails', 'Tails']],\n",
       "      dtype='<U5')"
      ]
     },
     "execution_count": 50,
     "metadata": {},
     "output_type": "execute_result"
    }
   ],
   "source": [
    "# Assume all the conis are fair coins\n",
    "\n",
    "n_trials = nrows = 1_000_000\n",
    "n_coins = ncols = 8\n",
    "\n",
    "flips = np.random.choice(['Head', 'Tails'], n_trials * n_coins).reshape(nrows, ncols)\n",
    "flips"
   ]
  },
  {
   "cell_type": "code",
   "execution_count": 51,
   "metadata": {},
   "outputs": [
    {
     "data": {
      "text/plain": [
       "0.218159"
      ]
     },
     "execution_count": 51,
     "metadata": {},
     "output_type": "execute_result"
    }
   ],
   "source": [
    "boolean_3_heads = [((flips[i] == \"Head\").sum() == 3) for i in range(0, nrows)]\n",
    "pd.Series(boolean_3_heads).mean()"
   ]
  },
  {
   "cell_type": "markdown",
   "metadata": {},
   "source": [
    "## 2-b. What is the probability of getting more than 3 heads?"
   ]
  },
  {
   "cell_type": "code",
   "execution_count": 52,
   "metadata": {},
   "outputs": [
    {
     "data": {
      "text/plain": [
       "0.637332"
      ]
     },
     "execution_count": 52,
     "metadata": {},
     "output_type": "execute_result"
    }
   ],
   "source": [
    "boolean_more_3_heads = [((flips[i] == \"Head\").sum() > 3) for i in range(0, nrows)]\n",
    "pd.Series(boolean_more_3_heads).mean()"
   ]
  },
  {
   "cell_type": "markdown",
   "metadata": {},
   "source": [
    "## 3. There are approximitely 3 web development cohorts for every 1 data science cohort at Codeup. Assuming that Codeup randomly selects an alumni to put on a billboard, what are the odds that the two billboards I drive past both have data science students on them?"
   ]
  },
  {
   "cell_type": "code",
   "execution_count": 69,
   "metadata": {},
   "outputs": [
    {
     "data": {
      "text/plain": [
       "array([['web_development', 'web_development'],\n",
       "       ['data_science', 'web_development'],\n",
       "       ['data_science', 'web_development'],\n",
       "       ...,\n",
       "       ['web_development', 'web_development'],\n",
       "       ['web_development', 'web_development'],\n",
       "       ['web_development', 'web_development']], dtype='<U15')"
      ]
     },
     "execution_count": 69,
     "metadata": {},
     "output_type": "execute_result"
    }
   ],
   "source": [
    "n_trials = nrows = 1_000_000\n",
    "n_students = ncols = 2\n",
    "billboards = np.random.choice(['web_development', 'data_science'], \n",
    "                              n_trials * n_students, \n",
    "                              p = [0.75, 0.25]).reshape(nrows, ncols)\n",
    "billboards"
   ]
  },
  {
   "cell_type": "code",
   "execution_count": 70,
   "metadata": {},
   "outputs": [
    {
     "data": {
      "text/plain": [
       "0.062568"
      ]
     },
     "execution_count": 70,
     "metadata": {},
     "output_type": "execute_result"
    }
   ],
   "source": [
    "boolean = [(billboards[i][0] == 'data_science' and billboards[i][1] == 'data_science') for i in range(0, nrows)]\n",
    "pd.Series(boolean).mean()"
   ]
  },
  {
   "cell_type": "markdown",
   "metadata": {},
   "source": [
    "## 4. Codeup students buy, on average, 3 poptart packages (+- 1.5) a day from the snack vending machine. If on monday the machine is restocked with 17 poptart packages, how likely is it that I will be able to buy some poptarts on Friday afternoon?"
   ]
  },
  {
   "cell_type": "code",
   "execution_count": 18,
   "metadata": {},
   "outputs": [
    {
     "data": {
      "text/plain": [
       "0.952391"
      ]
     },
     "execution_count": 18,
     "metadata": {},
     "output_type": "execute_result"
    }
   ],
   "source": [
    "# Create the matrix \n",
    "\n",
    "n_trials = nrows = 1_000_000\n",
    "n_days = ncols = 4\n",
    "\n",
    "poptart_bought = np.random.normal(3, 1.5, (n_trials, n_days))\n",
    "(poptart_bought.sum(axis=1) < 17).mean()"
   ]
  },
  {
   "cell_type": "markdown",
   "metadata": {},
   "source": [
    "## 5. Compare Heights: Men have an average height of 178 cm and standard deviation of 8cm; Women have a mean of 170, sd = 6cm; If a man and woman are chosen at random, P(woman taller than man)?"
   ]
  },
  {
   "cell_type": "code",
   "execution_count": 23,
   "metadata": {},
   "outputs": [
    {
     "data": {
      "text/plain": [
       "0.211407"
      ]
     },
     "execution_count": 23,
     "metadata": {},
     "output_type": "execute_result"
    }
   ],
   "source": [
    "men = np.random.normal(178, 8, 1_000_000)\n",
    "women = np.random.normal(170, 6, 1_000_000)\n",
    "(men < women).mean()"
   ]
  },
  {
   "cell_type": "markdown",
   "metadata": {},
   "source": [
    "## 6. When installing anaconda on a student's computer, there's a 1 in 250 chance that the download is corrupted and the installation fails. \n",
    "### a. What are the odds that after having 50 students download anaconda, no one has an installation issue? 100 students?"
   ]
  },
  {
   "cell_type": "code",
   "execution_count": 32,
   "metadata": {},
   "outputs": [
    {
     "data": {
      "text/plain": [
       "0.818775"
      ]
     },
     "execution_count": 32,
     "metadata": {},
     "output_type": "execute_result"
    }
   ],
   "source": [
    "n_trials = nrows = 1_000_000\n",
    "n_students = 50\n",
    "\n",
    "installation_50 = np.random.choice(['Success','Fail'], (nrows, n_students), p = [249/250, 1/250])\n",
    "pd.Series([ 'Fail' not in installation_50[i] for i in range(0, nrows)]).mean()"
   ]
  },
  {
   "cell_type": "code",
   "execution_count": 33,
   "metadata": {},
   "outputs": [
    {
     "data": {
      "text/plain": [
       "0.669471"
      ]
     },
     "execution_count": 33,
     "metadata": {},
     "output_type": "execute_result"
    }
   ],
   "source": [
    "n_trials = nrows = 1_000_000\n",
    "n_students = 100\n",
    "\n",
    "installation_50 = np.random.choice(['Success','Fail'], (nrows, n_students), p = [249/250, 1/250])\n",
    "pd.Series([ 'Fail' not in installation_50[i] for i in range(0, nrows)]).mean()"
   ]
  },
  {
   "cell_type": "markdown",
   "metadata": {},
   "source": [
    "### b. What is the probability that we observe an installation issue within the first 150 students that download anaconda?"
   ]
  },
  {
   "cell_type": "code",
   "execution_count": 34,
   "metadata": {},
   "outputs": [
    {
     "data": {
      "text/plain": [
       "0.452348"
      ]
     },
     "execution_count": 34,
     "metadata": {},
     "output_type": "execute_result"
    }
   ],
   "source": [
    "n_trials = nrows = 1_000_000\n",
    "n_students = 150\n",
    "\n",
    "installation_50 = np.random.choice(['Success','Fail'], (nrows, n_students), p = [249/250, 1/250])\n",
    "pd.Series([ 'Fail' in installation_50[i] for i in range(0, nrows)]).mean()"
   ]
  },
  {
   "cell_type": "markdown",
   "metadata": {},
   "source": [
    "### c. How likely is it that 450 students all download anaconda without an issue?"
   ]
  },
  {
   "cell_type": "code",
   "execution_count": 35,
   "metadata": {},
   "outputs": [
    {
     "data": {
      "text/plain": [
       "0.164735"
      ]
     },
     "execution_count": 35,
     "metadata": {},
     "output_type": "execute_result"
    }
   ],
   "source": [
    "n_trials = nrows = 1_000_000\n",
    "n_students = 450\n",
    "\n",
    "installation_450 = np.random.choice(['Success','Fail'], (nrows, n_students), p = [249/250, 1/250])\n",
    "pd.Series([ 'Fail' not in installation_450[i] for i in range(0, nrows)]).mean()"
   ]
  },
  {
   "cell_type": "markdown",
   "metadata": {},
   "source": [
    "## 7. There's a 70% chance on any given day that there will be at least one food truck at Travis Park. \n",
    "\n",
    "### 7-a However, you haven't seen a food truck there in 3 days. How unlikely is this?"
   ]
  },
  {
   "cell_type": "code",
   "execution_count": 46,
   "metadata": {
    "scrolled": true
   },
   "outputs": [
    {
     "data": {
      "text/plain": [
       "array([['no_show', 'at_least_one', 'at_least_one'],\n",
       "       ['at_least_one', 'no_show', 'at_least_one'],\n",
       "       ['at_least_one', 'at_least_one', 'no_show'],\n",
       "       ...,\n",
       "       ['at_least_one', 'no_show', 'no_show'],\n",
       "       ['at_least_one', 'no_show', 'no_show'],\n",
       "       ['no_show', 'no_show', 'at_least_one']], dtype='<U12')"
      ]
     },
     "execution_count": 46,
     "metadata": {},
     "output_type": "execute_result"
    }
   ],
   "source": [
    "n_trials = nrows = 1_000_000\n",
    "n_days = ncols = 3\n",
    "\n",
    "no_food_truck = np.random.choice(['at_least_one','no_show'], (nrows, n_days), p=[0.7, 0.3])\n",
    "no_food_truck"
   ]
  },
  {
   "cell_type": "code",
   "execution_count": 49,
   "metadata": {
    "scrolled": false
   },
   "outputs": [
    {
     "data": {
      "text/plain": [
       "0.027206"
      ]
     },
     "execution_count": 49,
     "metadata": {},
     "output_type": "execute_result"
    }
   ],
   "source": [
    "pd.Series(['at_least_one' not in no_food_truck[i] for i in range(0, nrows)]).mean()"
   ]
  },
  {
   "cell_type": "markdown",
   "metadata": {},
   "source": [
    "### 7-b. How likely is it that a food truck will show up sometime this week?"
   ]
  },
  {
   "cell_type": "code",
   "execution_count": 69,
   "metadata": {},
   "outputs": [
    {
     "data": {
      "text/plain": [
       "array([['at_least_one', 'no_show', 'at_least_one', ..., 'no_show',\n",
       "        'at_least_one', 'at_least_one'],\n",
       "       ['no_show', 'no_show', 'at_least_one', ..., 'at_least_one',\n",
       "        'at_least_one', 'no_show'],\n",
       "       ['at_least_one', 'at_least_one', 'at_least_one', ...,\n",
       "        'at_least_one', 'no_show', 'at_least_one'],\n",
       "       ...,\n",
       "       ['at_least_one', 'no_show', 'at_least_one', ..., 'at_least_one',\n",
       "        'at_least_one', 'at_least_one'],\n",
       "       ['at_least_one', 'at_least_one', 'at_least_one', ..., 'no_show',\n",
       "        'at_least_one', 'at_least_one'],\n",
       "       ['at_least_one', 'no_show', 'at_least_one', ..., 'at_least_one',\n",
       "        'no_show', 'at_least_one']], dtype='<U12')"
      ]
     },
     "execution_count": 69,
     "metadata": {},
     "output_type": "execute_result"
    }
   ],
   "source": [
    "n_trials = nrows = 1_000_000\n",
    "n_days = ncols = 7\n",
    "\n",
    "food_truck = np.random.choice(['at_least_one','no_show'], (nrows, n_days), p=[0.7, 0.3])\n",
    "food_truck"
   ]
  },
  {
   "cell_type": "code",
   "execution_count": 70,
   "metadata": {},
   "outputs": [
    {
     "data": {
      "text/plain": [
       "0.999772"
      ]
     },
     "execution_count": 70,
     "metadata": {},
     "output_type": "execute_result"
    }
   ],
   "source": [
    "pd.Series(['at_least_one' in food_truck[i] for i in range(0, nrows)]).mean()"
   ]
  },
  {
   "cell_type": "markdown",
   "metadata": {},
   "source": [
    "### 8. If 23 people are in the same room, what are the odds that two of them share a birthday? What if it's 20 people? 40?"
   ]
  },
  {
   "cell_type": "code",
   "execution_count": 107,
   "metadata": {
    "scrolled": true
   },
   "outputs": [
    {
     "data": {
      "text/plain": [
       "array([[143,  81, 131, ..., 290, 226, 139],\n",
       "       [335, 245, 180, ..., 232, 184,  87],\n",
       "       [209, 194,  41, ..., 268, 253, 196],\n",
       "       ...,\n",
       "       [178, 265, 157, ..., 308, 163, 169],\n",
       "       [ 33,  95, 195, ..., 310, 276, 160],\n",
       "       [163, 254,  76, ...,  60, 331, 196]])"
      ]
     },
     "execution_count": 107,
     "metadata": {},
     "output_type": "execute_result"
    }
   ],
   "source": [
    "n_trials = nrows = 10_000\n",
    "n_people = ncols = 23\n",
    "\n",
    "n_birthdays = np.random.choice(range(1,357), (nrows, ncols))\n",
    "n_birthdays"
   ]
  },
  {
   "cell_type": "code",
   "execution_count": 108,
   "metadata": {
    "scrolled": false
   },
   "outputs": [
    {
     "data": {
      "text/plain": [
       "0.5105"
      ]
     },
     "execution_count": 108,
     "metadata": {},
     "output_type": "execute_result"
    }
   ],
   "source": [
    "n_birthdays = pd.DataFrame(n_birthdays)\n",
    "pd.Series([n_birthdays.iloc[i].duplicated().any() for i in n_birthdays.index]).mean()"
   ]
  },
  {
   "cell_type": "code",
   "execution_count": 109,
   "metadata": {
    "scrolled": true
   },
   "outputs": [
    {
     "data": {
      "text/plain": [
       "array([[356, 111, 109, ..., 344, 111, 264],\n",
       "       [148, 116, 202, ..., 226, 251,  26],\n",
       "       [196, 119,  11, ..., 143, 110, 341],\n",
       "       ...,\n",
       "       [265, 218,  89, ...,  46, 158, 309],\n",
       "       [163, 145, 103, ..., 293, 273, 122],\n",
       "       [ 83, 318, 323, ...,  83, 146, 287]])"
      ]
     },
     "execution_count": 109,
     "metadata": {},
     "output_type": "execute_result"
    }
   ],
   "source": [
    "n_trials = nrows = 10_000\n",
    "n_people = ncols = 20\n",
    "\n",
    "n_birthdays = np.random.choice(range(1,357), (nrows, ncols))\n",
    "n_birthdays"
   ]
  },
  {
   "cell_type": "code",
   "execution_count": 123,
   "metadata": {
    "scrolled": false
   },
   "outputs": [
    {
     "data": {
      "text/plain": [
       "0.4208"
      ]
     },
     "execution_count": 123,
     "metadata": {},
     "output_type": "execute_result"
    }
   ],
   "source": [
    "n_birthdays = pd.DataFrame(n_birthdays)\n",
    "pd.Series([n_birthdays.iloc[i].duplicated().any() for i in n_birthdays.index]).mean()"
   ]
  },
  {
   "cell_type": "code",
   "execution_count": 137,
   "metadata": {},
   "outputs": [
    {
     "data": {
      "text/plain": [
       "0.89707"
      ]
     },
     "execution_count": 137,
     "metadata": {},
     "output_type": "execute_result"
    }
   ],
   "source": [
    "n_trials = nrows = 100_000\n",
    "n_people = ncols = 40\n",
    "\n",
    "n_birthdays = np.random.choice(range(1,357), (nrows, ncols))\n",
    "\n",
    "n_birthdays = pd.DataFrame(n_birthdays)\n",
    "pd.Series([n_birthdays.iloc[i].duplicated().any() for i in n_birthdays.index]).mean()"
   ]
  }
 ],
 "metadata": {
  "kernelspec": {
   "display_name": "Python 3",
   "language": "python",
   "name": "python3"
  },
  "language_info": {
   "codemirror_mode": {
    "name": "ipython",
    "version": 3
   },
   "file_extension": ".py",
   "mimetype": "text/x-python",
   "name": "python",
   "nbconvert_exporter": "python",
   "pygments_lexer": "ipython3",
   "version": "3.7.6"
  }
 },
 "nbformat": 4,
 "nbformat_minor": 4
}
