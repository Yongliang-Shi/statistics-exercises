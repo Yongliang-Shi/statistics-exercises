{
 "cells": [
  {
   "cell_type": "code",
   "execution_count": 226,
   "metadata": {},
   "outputs": [],
   "source": [
    "import numpy as np\n",
    "import pandas as pd\n",
    "import matplotlib.pyplot as plt\n",
    "import viz\n",
    "from scipy import stats\n",
    "from math import sqrt"
   ]
  },
  {
   "cell_type": "code",
   "execution_count": 227,
   "metadata": {},
   "outputs": [],
   "source": [
    "plt.rc('figure', figsize=(16,9))"
   ]
  },
  {
   "cell_type": "markdown",
   "metadata": {},
   "source": [
    "### 1. How likely is it that you roll doubles when rolling two dice?\n",
    "\n",
    "1. Assuming two dices are six sides and fair"
   ]
  },
  {
   "cell_type": "code",
   "execution_count": 24,
   "metadata": {},
   "outputs": [
    {
     "data": {
      "text/plain": [
       "array([[4, 3],\n",
       "       [2, 4],\n",
       "       [2, 5],\n",
       "       ...,\n",
       "       [1, 4],\n",
       "       [5, 5],\n",
       "       [4, 6]])"
      ]
     },
     "execution_count": 24,
     "metadata": {},
     "output_type": "execute_result"
    }
   ],
   "source": [
    "# Assume the dices are six sides and fair. A n * 2 matrix could be created to simulate the situlation\n",
    "\n",
    "n_trials = nrows = 2_000\n",
    "n_dice = ncols = 2\n",
    "\n",
    "rolls = np.random.choice(a = [1,2,3,4,5,6], \n",
    "                         size = (n_trials, n_dice)\n",
    "                        )\n",
    "rolls"
   ]
  },
  {
   "cell_type": "code",
   "execution_count": 20,
   "metadata": {
    "scrolled": false
   },
   "outputs": [
    {
     "data": {
      "text/plain": [
       "0.167"
      ]
     },
     "execution_count": 20,
     "metadata": {},
     "output_type": "execute_result"
    }
   ],
   "source": [
    "boolean_roll_doubles = [rolls[i][0] == rolls[i][1] for i in range(0, nrows)]\n",
    "pd.Series(boolean_roll_doubles).mean()"
   ]
  },
  {
   "cell_type": "code",
   "execution_count": 12,
   "metadata": {
    "scrolled": false
   },
   "outputs": [
    {
     "data": {
      "text/plain": [
       "0.17"
      ]
     },
     "execution_count": 12,
     "metadata": {},
     "output_type": "execute_result"
    }
   ],
   "source": [
    "# To simulate rolling two dice\n",
    "\n",
    "n_trials = 1000\n",
    "\n",
    "dice_1 = np.random.randint(low=1, high=7, size=n_trials)\n",
    "dice_1\n",
    "\n",
    "dice_2 = np.random.randint(low=1, high=7, size=n_trials)\n",
    "dice_2\n",
    "\n",
    "# To simulate the Event: rolling doubles\n",
    "\n",
    "dice_1 == dice_2\n",
    "\n",
    "# To calculate the expected value of the Event\n",
    "\n",
    "(dice_1 == dice_2).mean()"
   ]
  },
  {
   "cell_type": "markdown",
   "metadata": {},
   "source": [
    "### 2-a. If you flip 8 coins, what is the probability of getting exactly 3 heads? \n",
    "\n",
    "1. Experiment or trial: to flip 8 coins\n",
    "2. The outcome is a discrete random variable. If we map [head, tail] = [1, 0], then the sample sapce = [0,1,2,3,4,5,6,7,8]\n",
    "3. The Event is to get exactly 3 heads, which denoted by number 3.\n",
    "4. Assuming we flip a fair coin, the probability of flipping each coin is uniform. However, the probability distribution of each outcome is NOT uniform. "
   ]
  },
  {
   "cell_type": "code",
   "execution_count": 37,
   "metadata": {},
   "outputs": [
    {
     "data": {
      "text/plain": [
       "0.1111111111111111"
      ]
     },
     "execution_count": 37,
     "metadata": {},
     "output_type": "execute_result"
    }
   ],
   "source": [
    "stats.randint(low=0, high=9).pmf(3)"
   ]
  },
  {
   "cell_type": "code",
   "execution_count": 65,
   "metadata": {},
   "outputs": [
    {
     "data": {
      "text/plain": [
       "0.2166"
      ]
     },
     "execution_count": 65,
     "metadata": {},
     "output_type": "execute_result"
    }
   ],
   "source": [
    "# To simulate the whole process using ['Head', 'Tail']\n",
    "\n",
    "# Let's say we tried 1000 times\n",
    "\n",
    "n_trials = nrows = 10_000\n",
    "n_coins = ncols = 8\n",
    "\n",
    "# Use random.choice () to simulate the results of 1000 trials of flipping 8 coins\n",
    "\n",
    "flips = np.random.choice(['Head', 'Tails'], n_trials * n_coins).reshape(nrows, ncols)\n",
    "flips\n",
    "\n",
    "# To simulate the Event\n",
    "\n",
    "boolean_3_heads = [((flips[i] == \"Head\").sum() == 3) for i in range(0, nrows)]\n",
    "pd.Series(boolean_3_heads).mean()"
   ]
  },
  {
   "cell_type": "code",
   "execution_count": 64,
   "metadata": {},
   "outputs": [
    {
     "data": {
      "text/plain": [
       "0.2173"
      ]
     },
     "execution_count": 64,
     "metadata": {},
     "output_type": "execute_result"
    }
   ],
   "source": [
    "# To simulate 1000 trials using numbers for ['Head', 'Tail']\n",
    "\n",
    "n_trials = nrows = 10_000\n",
    "n_coins = ncols = 8\n",
    "\n",
    "simulation_rolls = np.random.randint(low=0, high=2, size=(nrows,ncols))\n",
    "simulation_rolls\n",
    "\n",
    "\n",
    "# For my convenience, the matrix is converted to a DataFrame\n",
    "\n",
    "simulation_rolls = pd.DataFrame(simulation_rolls)\n",
    "simulation_rolls.sample(5)\n",
    "\n",
    "# To calcualte how many heads for each trial\n",
    "\n",
    "simulation_rolls['n_heads'] = simulation_rolls.sum(axis=1)\n",
    "simulation_rolls.sample(5)\n",
    "\n",
    "# To simulate the Event\n",
    "\n",
    "simulation_rolls.n_heads == 3\n",
    "\n",
    "# To calculate the expected value of the Event\n",
    "\n",
    "(simulation_rolls.n_heads == 3).mean()"
   ]
  },
  {
   "cell_type": "code",
   "execution_count": 69,
   "metadata": {},
   "outputs": [
    {
     "data": {
      "text/plain": [
       "<matplotlib.axes._subplots.AxesSubplot at 0x7fac67f82c90>"
      ]
     },
     "execution_count": 69,
     "metadata": {},
     "output_type": "execute_result"
    },
    {
     "data": {
      "image/png": "[encoded data removed]",
      "text/plain": [
       "<Figure size 648x432 with 1 Axes>"
      ]
     },
     "metadata": {
      "needs_background": "light"
     },
     "output_type": "display_data"
    }
   ],
   "source": [
    "# Visualize the frequency distribution of flipping 8 coins\n",
    "\n",
    "n_heads = simulation_rolls.n_heads\n",
    "n_heads.sample(5)\n",
    "\n",
    "# Group the results by the sample space and get the count for each outcome. \n",
    "\n",
    "n_heads.value_counts().sort_index().plot(kind='bar')"
   ]
  },
  {
   "cell_type": "markdown",
   "metadata": {},
   "source": [
    "### 2-b. What is the probability of getting more than 3 heads?"
   ]
  },
  {
   "cell_type": "code",
   "execution_count": 74,
   "metadata": {},
   "outputs": [
    {
     "data": {
      "text/plain": [
       "0.6356"
      ]
     },
     "execution_count": 74,
     "metadata": {},
     "output_type": "execute_result"
    }
   ],
   "source": [
    "(n_heads > 3).mean()"
   ]
  },
  {
   "cell_type": "code",
   "execution_count": 73,
   "metadata": {},
   "outputs": [
    {
     "data": {
      "text/plain": [
       "0.6383"
      ]
     },
     "execution_count": 73,
     "metadata": {},
     "output_type": "execute_result"
    }
   ],
   "source": [
    "boolean_more_3_heads = [((flips[i] == \"Head\").sum() > 3) for i in range(0, nrows)]\n",
    "pd.Series(boolean_more_3_heads).mean()"
   ]
  },
  {
   "cell_type": "markdown",
   "metadata": {},
   "source": [
    "## 3. There are approximitely 3 web development cohorts for every 1 data science cohort at Codeup. Assuming that Codeup randomly selects an alumni to put on a billboard, what are the odds that the two billboards I drive past both have data science students on them?\n",
    "\n",
    "1. Experiment/Trial: randomly select two alumnis to put on two billboards\n",
    "2. The probabily for each selection is NOT uniform, p = [3/4, 1/4]\n",
    "3. Mapping [web development, data science] to [0, 1] and assuming the order doesn't matter, the possible outcomes of the experiment (sample space): [0, 1, 2], a discrete random varible. \n",
    "4. The probability distribution of the sample space is ?\n",
    "3. The Event is to both are data science students, which represented by number 2"
   ]
  },
  {
   "cell_type": "code",
   "execution_count": 87,
   "metadata": {},
   "outputs": [
    {
     "data": {
      "text/plain": [
       "0.062782"
      ]
     },
     "execution_count": 87,
     "metadata": {},
     "output_type": "execute_result"
    }
   ],
   "source": [
    "n_trials = nrows = 1_000_000\n",
    "n_cohorts = ncols = 2\n",
    "\n",
    "\n",
    "experiment = np.random.choice(a=[0,1], size=(nrows, ncols), p=[3/4,1/4])\n",
    "experiment = pd.DataFrame(experiment)\n",
    "experiment.sample(5)\n",
    "\n",
    "experiment['n_ds'] = experiment.sum(axis=1)\n",
    "experiment.sample(5)\n",
    "\n",
    "n_ds = experiment.n_ds\n",
    "(n_ds == 2).mean()"
   ]
  },
  {
   "cell_type": "code",
   "execution_count": 88,
   "metadata": {},
   "outputs": [
    {
     "data": {
      "text/plain": [
       "<matplotlib.axes._subplots.AxesSubplot at 0x7fac681de450>"
      ]
     },
     "execution_count": 88,
     "metadata": {},
     "output_type": "execute_result"
    },
    {
     "data": {
      "image/png": "[encoded data removed]",
      "text/plain": [
       "<Figure size 648x432 with 1 Axes>"
      ]
     },
     "metadata": {
      "needs_background": "light"
     },
     "output_type": "display_data"
    }
   ],
   "source": [
    "n_ds.value_counts().plot(kind='bar')"
   ]
  },
  {
   "cell_type": "code",
   "execution_count": 69,
   "metadata": {},
   "outputs": [
    {
     "data": {
      "text/plain": [
       "array([['web_development', 'web_development'],\n",
       "       ['data_science', 'web_development'],\n",
       "       ['data_science', 'web_development'],\n",
       "       ...,\n",
       "       ['web_development', 'web_development'],\n",
       "       ['web_development', 'web_development'],\n",
       "       ['web_development', 'web_development']], dtype='<U15')"
      ]
     },
     "execution_count": 69,
     "metadata": {},
     "output_type": "execute_result"
    }
   ],
   "source": [
    "n_trials = nrows = 1_000_000\n",
    "n_students = ncols = 2\n",
    "billboards = np.random.choice(['web_development', 'data_science'], \n",
    "                              n_trials * n_students, \n",
    "                              p = [0.75, 0.25]).reshape(nrows, ncols)\n",
    "billboards"
   ]
  },
  {
   "cell_type": "code",
   "execution_count": 70,
   "metadata": {},
   "outputs": [
    {
     "data": {
      "text/plain": [
       "0.062568"
      ]
     },
     "execution_count": 70,
     "metadata": {},
     "output_type": "execute_result"
    }
   ],
   "source": [
    "boolean = [(billboards[i][0] == 'data_science' and billboards[i][1] == 'data_science') for i in range(0, nrows)]\n",
    "pd.Series(boolean).mean()"
   ]
  },
  {
   "cell_type": "markdown",
   "metadata": {},
   "source": [
    "## 4. Codeup students buy, on average, 3 poptart packages (+- 1.5) a day from the snack vending machine. If on monday the machine is restocked with 17 poptart packages, how likely is it that I will be able to buy some poptarts on Friday afternoon?\n",
    "\n",
    "1. Experiment / Trial: buy poptart for 5 days, starting with 17 poptart packages.\n",
    "2. The average packages of each purchase is 3 and the std is 1.5. Such info allow me to plot The probability density function for every purchase. \n",
    "3. The experiment is made up of 5 such perchanses, so the mean will be 3*5 and the std will be 1.5*5. "
   ]
  },
  {
   "cell_type": "code",
   "execution_count": 229,
   "metadata": {},
   "outputs": [
    {
     "data": {
      "text/plain": [
       "<BarContainer object of 80 artists>"
      ]
     },
     "execution_count": 229,
     "metadata": {},
     "output_type": "execute_result"
    },
    {
     "data": {
      "image/png": "[encoded data removed]",
      "text/plain": [
       "<Figure size 1152x648 with 2 Axes>"
      ]
     },
     "metadata": {
      "needs_background": "light"
     },
     "output_type": "display_data"
    }
   ],
   "source": [
    "# Plot the probability density function\n",
    "\n",
    "plt.subplot(1,2,1)\n",
    "x = np.arange(start=0, stop=18)\n",
    "y = stats.norm(loc=3.0, scale=1.5).pdf(x)\n",
    "plt.bar(x,y)\n",
    "\n",
    "# Hypothesis: Plot the probability density function of 5 purchases in a row (one trial)\n",
    "\n",
    "plt.subplot(1,2,2)\n",
    "\n",
    "x = np.arange(start=-40, stop=40)\n",
    "y_transform = stats.norm(loc=15, scale=1.5*5).pdf(x)\n",
    "y_combing = stats.norm(loc=15, scale=sqrt(1.5*1.5*5)).pdf(x)\n",
    "plt.bar(x,y_transform,alpha=0.5,color='black')\n",
    "plt.bar(x,y_combing,alpha=0.5,color='red')\n",
    "\n",
    "# It is NOT transforming the random varibales. It is COMBINING. "
   ]
  },
  {
   "cell_type": "code",
   "execution_count": 173,
   "metadata": {},
   "outputs": [
    {
     "data": {
      "text/plain": [
       "0.553035116623614"
      ]
     },
     "execution_count": 173,
     "metadata": {},
     "output_type": "execute_result"
    }
   ],
   "source": [
    "# Answer the question: What is the probability of:\n",
    "# - more than 0 package left\n",
    "# - at least 0 package left\n",
    "# - consumed 16 or less\n",
    "\n",
    "stats.norm(loc=15, scale=7.5).cdf(16)"
   ]
  },
  {
   "cell_type": "code",
   "execution_count": 239,
   "metadata": {},
   "outputs": [
    {
     "data": {
      "text/plain": [
       "0.617202758002118"
      ]
     },
     "execution_count": 239,
     "metadata": {},
     "output_type": "execute_result"
    }
   ],
   "source": [
    "stats.norm(loc=15, scale=sqrt(1.5*1.5*5)).cdf(16)"
   ]
  },
  {
   "cell_type": "code",
   "execution_count": 243,
   "metadata": {},
   "outputs": [
    {
     "data": {
      "text/plain": [
       "0.67069"
      ]
     },
     "execution_count": 243,
     "metadata": {},
     "output_type": "execute_result"
    }
   ],
   "source": [
    "# Create the matrix for 1000 trials \n",
    "\n",
    "n_trials = nrows = 1_000_000\n",
    "n_days = ncols = 5\n",
    "\n",
    "poptarts = np.random.normal(loc=3, scale=1.5, size=(n_trials, n_days)).round()\n",
    "poptarts\n",
    "\n",
    "# convert the matrix to the DataFrame\n",
    "\n",
    "poptarts = pd.DataFrame(poptarts)\n",
    "poptarts.sample(5)\n",
    "\n",
    "# simulate the Event: the purchase for 5 days\n",
    "\n",
    "poptarts['purchased'] = poptarts.sum(axis=1)\n",
    "poptarts.sample(5)\n",
    "\n",
    "# Answer the question: any poptarts left?\n",
    "\n",
    "purchased = poptarts['purchased']\n",
    "(purchased < 17).mean()"
   ]
  },
  {
   "cell_type": "markdown",
   "metadata": {},
   "source": [
    "### Visulization"
   ]
  },
  {
   "cell_type": "code",
   "execution_count": 170,
   "metadata": {
    "scrolled": true
   },
   "outputs": [
    {
     "data": {
      "text/plain": [
       "Text(0.5, 1.0, 'with data validation')"
      ]
     },
     "execution_count": 170,
     "metadata": {},
     "output_type": "execute_result"
    },
    {
     "data": {
      "image/png": "[encoded data removed]",
      "text/plain": [
       "<Figure size 1152x648 with 2 Axes>"
      ]
     },
     "metadata": {
      "needs_background": "light"
     },
     "output_type": "display_data"
    }
   ],
   "source": [
    "# To convert all the number larger than 17 to 17\n",
    "\n",
    "purchased_valid = purchased.apply(lambda i: 17 if i > 17 else i)\n",
    "\n",
    "# to convert all the number less than 0 to 0\n",
    "\n",
    "purchased_valid = purchased_valid.apply(lambda i: 0 if i < 0 else i)\n",
    "\n",
    "\n",
    "# Group the results\n",
    "\n",
    "plt.figure(figsize=(16,9))\n",
    "\n",
    "plt.subplot(2,2,1)\n",
    "purchased.value_counts().sort_index().plot(kind='bar')\n",
    "plt.title('w/o data validation')\n",
    "\n",
    "plt.subplot(2,2,2)\n",
    "purchased_valid.value_counts().sort_index().plot(kind='bar')\n",
    "plt.title('with data validation')"
   ]
  },
  {
   "cell_type": "code",
   "execution_count": 172,
   "metadata": {
    "scrolled": true
   },
   "outputs": [
    {
     "data": {
      "text/plain": [
       "mean    15.002868\n",
       "std      3.418359\n",
       "Name: purchased, dtype: float64"
      ]
     },
     "execution_count": 172,
     "metadata": {},
     "output_type": "execute_result"
    }
   ],
   "source": [
    "# Calculate the mean and std\n",
    "\n",
    "purchased.agg(['mean', 'std'])"
   ]
  },
  {
   "cell_type": "markdown",
   "metadata": {},
   "source": [
    "## 5. Compare Heights: Men have an average height of 178 cm and standard deviation of 8cm; Women have a mean of 170, sd = 6cm; If a man and woman are chosen at random, P(woman taller than man)?\n",
    "\n",
    "1. Experiment/Trial: randomly pick a men and a women in the population and compare their height.\n",
    "2. There are three possible outcome: \n",
    "3. There are two random varibales: one is X(men) and the other is X(women). Both of them are continueous. \n",
    "4. "
   ]
  },
  {
   "cell_type": "code",
   "execution_count": 217,
   "metadata": {
    "scrolled": false
   },
   "outputs": [
    {
     "data": {
      "text/plain": [
       "<BarContainer object of 90 artists>"
      ]
     },
     "execution_count": 217,
     "metadata": {},
     "output_type": "execute_result"
    },
    {
     "data": {
      "image/png": "[encoded data removed]",
      "text/plain": [
       "<Figure size 1152x648 with 2 Axes>"
      ]
     },
     "metadata": {
      "needs_background": "light"
     },
     "output_type": "display_data"
    }
   ],
   "source": [
    "# Visualize the probability distribution for both men and women height\n",
    "\n",
    "plt.subplot(1,2,1)\n",
    "\n",
    "x = np.arange(start=140, stop=220)\n",
    "men = stats.norm(loc=178, scale=8).pdf(x)\n",
    "women = stats.norm(loc=170,scale=6).pdf(x)\n",
    "plt.bar(x, men, alpha=0.5)\n",
    "plt.bar(x, women, alpha=0.5)\n",
    "\n",
    "\n",
    "# Combine the two random variables\n",
    "\n",
    "plt.subplot(1,2,2)\n",
    "\n",
    "from math import sqrt\n",
    "\n",
    "mean_diff = 178 - 170\n",
    "std_diff = sqrt(8**2 + 6**2)\n",
    "x = np.arange(-40,50)\n",
    "diff = stats.norm(mean_diff, std_diff).pdf(x)\n",
    "plt.bar(x, diff)"
   ]
  },
  {
   "cell_type": "code",
   "execution_count": 218,
   "metadata": {},
   "outputs": [
    {
     "data": {
      "text/plain": [
       "0.2118553985833967"
      ]
     },
     "execution_count": 218,
     "metadata": {},
     "output_type": "execute_result"
    }
   ],
   "source": [
    "stats.norm(mean_diff, std_diff).cdf(0)"
   ]
  },
  {
   "cell_type": "code",
   "execution_count": 207,
   "metadata": {},
   "outputs": [
    {
     "data": {
      "text/plain": [
       "0.212244"
      ]
     },
     "execution_count": 207,
     "metadata": {},
     "output_type": "execute_result"
    }
   ],
   "source": [
    "men = np.random.normal(178, 8, 1_000_000)\n",
    "women = np.random.normal(170, 6, 1_000_000)\n",
    "(men < women).mean()"
   ]
  },
  {
   "cell_type": "markdown",
   "metadata": {},
   "source": [
    "## 6. When installing anaconda on a student's computer, there's a 1 in 250 chance that the download is corrupted and the installation fails. \n",
    "\n",
    "* sample space: [sucess, fail] <-> [1, 0]\n",
    "* binomial random variable"
   ]
  },
  {
   "cell_type": "code",
   "execution_count": 253,
   "metadata": {
    "scrolled": false
   },
   "outputs": [
    {
     "data": {
      "text/plain": [
       "<BarContainer object of 2 artists>"
      ]
     },
     "execution_count": 253,
     "metadata": {},
     "output_type": "execute_result"
    },
    {
     "data": {
      "image/png": "[encoded data removed]",
      "text/plain": [
       "<Figure size 576x432 with 1 Axes>"
      ]
     },
     "metadata": {
      "needs_background": "light"
     },
     "output_type": "display_data"
    }
   ],
   "source": [
    "# Visualization\n",
    "\n",
    "plt.figure(figsize=(8,6))\n",
    "\n",
    "x = ['Fail','Success']\n",
    "y = [1/250, 249/250]\n",
    "plt.bar(x,y,width=0.5)"
   ]
  },
  {
   "cell_type": "markdown",
   "metadata": {},
   "source": [
    "### a. What are the odds that after having 50 students download anaconda, no one has an installation issue? 100 students?\n",
    "\n",
    "1. Expriment / Trial: having 50 students download anaconda\n",
    "2. 50 successes"
   ]
  },
  {
   "cell_type": "code",
   "execution_count": 254,
   "metadata": {},
   "outputs": [
    {
     "data": {
      "text/plain": [
       "0.8184024506760997"
      ]
     },
     "execution_count": 254,
     "metadata": {},
     "output_type": "execute_result"
    }
   ],
   "source": [
    "stats.binom(50, 249/250).pmf(50)"
   ]
  },
  {
   "cell_type": "code",
   "execution_count": 32,
   "metadata": {},
   "outputs": [
    {
     "data": {
      "text/plain": [
       "0.818775"
      ]
     },
     "execution_count": 32,
     "metadata": {},
     "output_type": "execute_result"
    }
   ],
   "source": [
    "n_trials = nrows = 1_000_000\n",
    "n_students = 50\n",
    "\n",
    "installation_50 = np.random.choice(['Success','Fail'], (nrows, n_students), p = [249/250, 1/250])\n",
    "pd.Series([ 'Fail' not in installation_50[i] for i in range(0, nrows)]).mean()"
   ]
  },
  {
   "cell_type": "code",
   "execution_count": 255,
   "metadata": {},
   "outputs": [
    {
     "data": {
      "text/plain": [
       "0.669782571272646"
      ]
     },
     "execution_count": 255,
     "metadata": {},
     "output_type": "execute_result"
    }
   ],
   "source": [
    "stats.binom(100, 249/250).pmf(100)"
   ]
  },
  {
   "cell_type": "code",
   "execution_count": 33,
   "metadata": {},
   "outputs": [
    {
     "data": {
      "text/plain": [
       "0.669471"
      ]
     },
     "execution_count": 33,
     "metadata": {},
     "output_type": "execute_result"
    }
   ],
   "source": [
    "n_trials = nrows = 1_000_000\n",
    "n_students = 100\n",
    "\n",
    "installation_50 = np.random.choice(['Success','Fail'], (nrows, n_students), p = [249/250, 1/250])\n",
    "pd.Series([ 'Fail' not in installation_50[i] for i in range(0, nrows)]).mean()"
   ]
  },
  {
   "cell_type": "markdown",
   "metadata": {},
   "source": [
    "### b. What is the probability that we observe an installation issue within the first 150 students that download anaconda?"
   ]
  },
  {
   "cell_type": "code",
   "execution_count": 262,
   "metadata": {},
   "outputs": [
    {
     "data": {
      "text/plain": [
       "<BarContainer object of 11 artists>"
      ]
     },
     "execution_count": 262,
     "metadata": {},
     "output_type": "execute_result"
    },
    {
     "data": {
      "image/png": "[encoded data removed]",
      "text/plain": [
       "<Figure size 1152x648 with 1 Axes>"
      ]
     },
     "metadata": {
      "needs_background": "light"
     },
     "output_type": "display_data"
    }
   ],
   "source": [
    "x = np.arange(start=140, stop=151)\n",
    "y = stats.binom(150,249/250).pmf(x)\n",
    "plt.bar(x,y)"
   ]
  },
  {
   "cell_type": "code",
   "execution_count": 264,
   "metadata": {},
   "outputs": [
    {
     "data": {
      "text/plain": [
       "0.4518483022503271"
      ]
     },
     "execution_count": 264,
     "metadata": {},
     "output_type": "execute_result"
    }
   ],
   "source": [
    "1 - stats.binom(150, 249/250).pmf(150)"
   ]
  },
  {
   "cell_type": "code",
   "execution_count": 34,
   "metadata": {},
   "outputs": [
    {
     "data": {
      "text/plain": [
       "0.452348"
      ]
     },
     "execution_count": 34,
     "metadata": {},
     "output_type": "execute_result"
    }
   ],
   "source": [
    "n_trials = nrows = 1_000_000\n",
    "n_students = 150\n",
    "\n",
    "installation_50 = np.random.choice(['Success','Fail'], (nrows, n_students), p = [249/250, 1/250])\n",
    "pd.Series([ 'Fail' in installation_50[i] for i in range(0, nrows)]).mean()"
   ]
  },
  {
   "cell_type": "markdown",
   "metadata": {},
   "source": [
    "### c. How likely is it that 450 students all download anaconda without an issue?"
   ]
  },
  {
   "cell_type": "code",
   "execution_count": 267,
   "metadata": {},
   "outputs": [
    {
     "data": {
      "text/plain": [
       "0.1647032961586129"
      ]
     },
     "execution_count": 267,
     "metadata": {},
     "output_type": "execute_result"
    }
   ],
   "source": [
    "stats.binom(450, 249/250).pmf(450)"
   ]
  },
  {
   "cell_type": "code",
   "execution_count": 35,
   "metadata": {},
   "outputs": [
    {
     "data": {
      "text/plain": [
       "0.164735"
      ]
     },
     "execution_count": 35,
     "metadata": {},
     "output_type": "execute_result"
    }
   ],
   "source": [
    "n_trials = nrows = 1_000_000\n",
    "n_students = 450\n",
    "\n",
    "installation_450 = np.random.choice(['Success','Fail'], (nrows, n_students), p = [249/250, 1/250])\n",
    "pd.Series([ 'Fail' not in installation_450[i] for i in range(0, nrows)]).mean()"
   ]
  },
  {
   "cell_type": "markdown",
   "metadata": {},
   "source": [
    "### 7. There's a 70% chance on any given day that there will be at least one food truck at Travis Park. \n",
    "\n",
    "* It is binomial random variable"
   ]
  },
  {
   "cell_type": "markdown",
   "metadata": {},
   "source": [
    "### 7-a However, you haven't seen a food truck there in 3 days. How unlikely is this?\n",
    "\n",
    "* Experiment/Trial: go to Travis Park three days to observe if there is a food truck"
   ]
  },
  {
   "cell_type": "code",
   "execution_count": 268,
   "metadata": {},
   "outputs": [
    {
     "data": {
      "text/plain": [
       "0.027000000000000007"
      ]
     },
     "execution_count": 268,
     "metadata": {},
     "output_type": "execute_result"
    }
   ],
   "source": [
    "stats.binom(3,0.7).pmf(0)"
   ]
  },
  {
   "cell_type": "code",
   "execution_count": 296,
   "metadata": {},
   "outputs": [
    {
     "data": {
      "text/plain": [
       "0.026879"
      ]
     },
     "execution_count": 296,
     "metadata": {},
     "output_type": "execute_result"
    }
   ],
   "source": [
    "n_trials = nrows = 1_000_000\n",
    "n_days = ncols = 3\n",
    "\n",
    "food_truck = np.random.choice([1,0], (nrows, n_days), p=[0.7, 0.3])\n",
    "food_truck = pd.DataFrame(food_truck)\n",
    "food_truck.sample(5)\n",
    "\n",
    "food_truck['show_up'] = food_truck.sum(axis=1)\n",
    "food_truck.sample(5)\n",
    "\n",
    "show_up = food_truck['show_up']\n",
    "(show_up == 0).mean()"
   ]
  },
  {
   "cell_type": "code",
   "execution_count": 300,
   "metadata": {},
   "outputs": [
    {
     "data": {
      "text/plain": [
       "<matplotlib.axes._subplots.AxesSubplot at 0x7fabd2d32b10>"
      ]
     },
     "execution_count": 300,
     "metadata": {},
     "output_type": "execute_result"
    },
    {
     "data": {
      "image/png": "[encoded data removed]",
      "text/plain": [
       "<Figure size 1152x648 with 1 Axes>"
      ]
     },
     "metadata": {
      "needs_background": "light"
     },
     "output_type": "display_data"
    }
   ],
   "source": [
    "show_up.value_counts().sort_index().plot(kind='bar')"
   ]
  },
  {
   "cell_type": "code",
   "execution_count": 46,
   "metadata": {
    "scrolled": true
   },
   "outputs": [
    {
     "data": {
      "text/plain": [
       "array([['no_show', 'at_least_one', 'at_least_one'],\n",
       "       ['at_least_one', 'no_show', 'at_least_one'],\n",
       "       ['at_least_one', 'at_least_one', 'no_show'],\n",
       "       ...,\n",
       "       ['at_least_one', 'no_show', 'no_show'],\n",
       "       ['at_least_one', 'no_show', 'no_show'],\n",
       "       ['no_show', 'no_show', 'at_least_one']], dtype='<U12')"
      ]
     },
     "execution_count": 46,
     "metadata": {},
     "output_type": "execute_result"
    }
   ],
   "source": [
    "n_trials = nrows = 1_000_000\n",
    "n_days = ncols = 3\n",
    "\n",
    "no_food_truck = np.random.choice(['at_least_one','no_show'], (nrows, n_days), p=[0.7, 0.3])\n",
    "no_food_truck"
   ]
  },
  {
   "cell_type": "code",
   "execution_count": 49,
   "metadata": {
    "scrolled": false
   },
   "outputs": [
    {
     "data": {
      "text/plain": [
       "0.027206"
      ]
     },
     "execution_count": 49,
     "metadata": {},
     "output_type": "execute_result"
    }
   ],
   "source": [
    "pd.Series(['at_least_one' not in no_food_truck[i] for i in range(0, nrows)]).mean()"
   ]
  },
  {
   "cell_type": "markdown",
   "metadata": {},
   "source": [
    "### 7-b. How likely is it that a food truck will show up sometime this week?"
   ]
  },
  {
   "cell_type": "code",
   "execution_count": 269,
   "metadata": {},
   "outputs": [
    {
     "data": {
      "text/plain": [
       "0.9997813"
      ]
     },
     "execution_count": 269,
     "metadata": {},
     "output_type": "execute_result"
    }
   ],
   "source": [
    "1 - stats.binom(7, 0.7).pmf(0)"
   ]
  },
  {
   "cell_type": "code",
   "execution_count": 294,
   "metadata": {},
   "outputs": [
    {
     "data": {
      "text/plain": [
       "0.999788"
      ]
     },
     "execution_count": 294,
     "metadata": {},
     "output_type": "execute_result"
    }
   ],
   "source": [
    "n_trials = nrows = 1_000_000\n",
    "n_days = ncols = 7\n",
    "\n",
    "food_truck = np.random.choice([1,0], (nrows, n_days), p=[0.7, 0.3])\n",
    "food_truck = pd.DataFrame(food_truck)\n",
    "food_truck.sample(5)\n",
    "\n",
    "food_truck['show_up'] = food_truck.sum(axis=1)\n",
    "food_truck.sample(5)\n",
    "\n",
    "show_up = food_truck['show_up']\n",
    "(show_up > 0).mean()"
   ]
  },
  {
   "cell_type": "code",
   "execution_count": 295,
   "metadata": {},
   "outputs": [
    {
     "data": {
      "text/plain": [
       "<matplotlib.axes._subplots.AxesSubplot at 0x7fabd3cb3110>"
      ]
     },
     "execution_count": 295,
     "metadata": {},
     "output_type": "execute_result"
    },
    {
     "data": {
      "image/png": "[encoded data removed]",
      "text/plain": [
       "<Figure size 1152x648 with 1 Axes>"
      ]
     },
     "metadata": {
      "needs_background": "light"
     },
     "output_type": "display_data"
    }
   ],
   "source": [
    "# Visualization\n",
    "\n",
    "show_up.value_counts().sort_index().plot(kind='bar')"
   ]
  },
  {
   "cell_type": "code",
   "execution_count": 285,
   "metadata": {},
   "outputs": [
    {
     "data": {
      "text/plain": [
       "array([['no_show', 'at_least_one', 'no_show', ..., 'at_least_one',\n",
       "        'at_least_one', 'at_least_one'],\n",
       "       ['no_show', 'at_least_one', 'at_least_one', ..., 'at_least_one',\n",
       "        'no_show', 'no_show'],\n",
       "       ['no_show', 'at_least_one', 'at_least_one', ..., 'no_show',\n",
       "        'at_least_one', 'no_show'],\n",
       "       ...,\n",
       "       ['at_least_one', 'at_least_one', 'at_least_one', ...,\n",
       "        'at_least_one', 'at_least_one', 'at_least_one'],\n",
       "       ['at_least_one', 'no_show', 'at_least_one', ..., 'at_least_one',\n",
       "        'at_least_one', 'at_least_one'],\n",
       "       ['at_least_one', 'no_show', 'no_show', ..., 'no_show',\n",
       "        'at_least_one', 'at_least_one']], dtype='<U12')"
      ]
     },
     "execution_count": 285,
     "metadata": {},
     "output_type": "execute_result"
    }
   ],
   "source": [
    "n_trials = nrows = 1_000_000\n",
    "n_days = ncols = 7\n",
    "\n",
    "food_truck = np.random.choice(['at_least_one','no_show'], (nrows, n_days), p=[0.7, 0.3])\n",
    "food_truck"
   ]
  },
  {
   "cell_type": "code",
   "execution_count": 286,
   "metadata": {},
   "outputs": [
    {
     "data": {
      "text/plain": [
       "0.999781"
      ]
     },
     "execution_count": 286,
     "metadata": {},
     "output_type": "execute_result"
    }
   ],
   "source": [
    "pd.Series(['at_least_one' in food_truck[i] for i in range(0, nrows)]).mean()"
   ]
  },
  {
   "cell_type": "markdown",
   "metadata": {},
   "source": [
    "### 8. If 23 people are in the same room, what are the odds that two of them share a birthday? What if it's 20 people? 40?\n",
    "\n",
    "* flipping coin? No, this is not about success or fail, or head or tail."
   ]
  },
  {
   "cell_type": "code",
   "execution_count": 107,
   "metadata": {
    "scrolled": true
   },
   "outputs": [
    {
     "data": {
      "text/plain": [
       "array([[143,  81, 131, ..., 290, 226, 139],\n",
       "       [335, 245, 180, ..., 232, 184,  87],\n",
       "       [209, 194,  41, ..., 268, 253, 196],\n",
       "       ...,\n",
       "       [178, 265, 157, ..., 308, 163, 169],\n",
       "       [ 33,  95, 195, ..., 310, 276, 160],\n",
       "       [163, 254,  76, ...,  60, 331, 196]])"
      ]
     },
     "execution_count": 107,
     "metadata": {},
     "output_type": "execute_result"
    }
   ],
   "source": [
    "n_trials = nrows = 10_000\n",
    "n_people = ncols = 23\n",
    "\n",
    "n_birthdays = np.random.choice(range(1,357), (nrows, ncols))\n",
    "n_birthdays"
   ]
  },
  {
   "cell_type": "code",
   "execution_count": 108,
   "metadata": {
    "scrolled": false
   },
   "outputs": [
    {
     "data": {
      "text/plain": [
       "0.5105"
      ]
     },
     "execution_count": 108,
     "metadata": {},
     "output_type": "execute_result"
    }
   ],
   "source": [
    "n_birthdays = pd.DataFrame(n_birthdays)\n",
    "pd.Series([n_birthdays.iloc[i].duplicated().any() for i in n_birthdays.index]).mean()"
   ]
  },
  {
   "cell_type": "code",
   "execution_count": 109,
   "metadata": {
    "scrolled": true
   },
   "outputs": [
    {
     "data": {
      "text/plain": [
       "array([[356, 111, 109, ..., 344, 111, 264],\n",
       "       [148, 116, 202, ..., 226, 251,  26],\n",
       "       [196, 119,  11, ..., 143, 110, 341],\n",
       "       ...,\n",
       "       [265, 218,  89, ...,  46, 158, 309],\n",
       "       [163, 145, 103, ..., 293, 273, 122],\n",
       "       [ 83, 318, 323, ...,  83, 146, 287]])"
      ]
     },
     "execution_count": 109,
     "metadata": {},
     "output_type": "execute_result"
    }
   ],
   "source": [
    "n_trials = nrows = 10_000\n",
    "n_people = ncols = 20\n",
    "\n",
    "n_birthdays = np.random.choice(range(1,357), (nrows, ncols))\n",
    "n_birthdays"
   ]
  },
  {
   "cell_type": "code",
   "execution_count": 123,
   "metadata": {
    "scrolled": false
   },
   "outputs": [
    {
     "data": {
      "text/plain": [
       "0.4208"
      ]
     },
     "execution_count": 123,
     "metadata": {},
     "output_type": "execute_result"
    }
   ],
   "source": [
    "n_birthdays = pd.DataFrame(n_birthdays)\n",
    "pd.Series([n_birthdays.iloc[i].duplicated().any() for i in n_birthdays.index]).mean()"
   ]
  },
  {
   "cell_type": "code",
   "execution_count": 137,
   "metadata": {},
   "outputs": [
    {
     "data": {
      "text/plain": [
       "0.89707"
      ]
     },
     "execution_count": 137,
     "metadata": {},
     "output_type": "execute_result"
    }
   ],
   "source": [
    "n_trials = nrows = 100_000\n",
    "n_people = ncols = 40\n",
    "\n",
    "n_birthdays = np.random.choice(range(1,357), (nrows, ncols))\n",
    "\n",
    "n_birthdays = pd.DataFrame(n_birthdays)\n",
    "pd.Series([n_birthdays.iloc[i].duplicated().any() for i in n_birthdays.index]).mean()"
   ]
  }
 ],
 "metadata": {
  "kernelspec": {
   "display_name": "Python 3",
   "language": "python",
   "name": "python3"
  },
  "language_info": {
   "codemirror_mode": {
    "name": "ipython",
    "version": 3
   },
   "file_extension": ".py",
   "mimetype": "text/x-python",
   "name": "python",
   "nbconvert_exporter": "python",
   "pygments_lexer": "ipython3",
   "version": "3.7.6"
  }
 },
 "nbformat": 4,
 "nbformat_minor": 4
}
